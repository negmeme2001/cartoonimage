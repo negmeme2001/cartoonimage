{
 "cells": [
  {
   "cell_type": "code",
   "execution_count": null,
   "metadata": {},
   "outputs": [],
   "source": [
    "import cv2 \n",
    "import imutils\n",
    "import easygui \n",
    "import imageio\n",
    "import sys\n",
    "import matplotlib.pyplot as plt \n",
    "import os \n",
    "import numpy as np\n",
    "import tkinter as tk \n",
    "from tkinter import filedialog\n",
    "from tkinter import *\n",
    "from PIL import ImageTk,Image\n"
   ]
  },
  {
   "cell_type": "code",
   "execution_count": null,
   "metadata": {},
   "outputs": [],
   "source": [
    "def upload():\n",
    "    ImagePath=easygui.fileopenbox()\n",
    "    cartoonify(ImagePath)"
   ]
  },
  {
   "cell_type": "code",
   "execution_count": null,
   "metadata": {},
   "outputs": [],
   "source": [
    "def cartoonify(ImagePath):\n",
    "    originalmage = cv2.imread(ImagePath)\n",
    "    originalmage = cv2.cvtColor(originalmage, cv2.COLOR_BGR2RGB)\n",
    "# check if the image is chosen\n",
    "    if originalmage is None:\n",
    "        print(\"Can not find any image. Choose appropriate file\")\n",
    "        sys.exit()\n",
    "    ReSized1 = cv2.resize(originalmage, (960, 540))\n",
    "    grayScaleImage = cv2.cvtColor(originalmage, cv2.COLOR_BGR2GRAY)\n",
    "    ReSized2 = cv2.resize(grayScaleImage, (960, 540))\n",
    "    #applying median blur to smoothen an image\n",
    "    smoothGrayScale = cv2.medianBlur(grayScaleImage, 5)\n",
    "    ReSized3 = cv2.resize(smoothGrayScale, (960, 540))\n",
    "    #retrieving the edges for cartoon effect\n",
    "    getEdge = cv2.adaptiveThreshold(smoothGrayScale,255,cv2.ADAPTIVE_THRESH_MEAN_C, cv2.THRESH_BINARY, 9, 9) \n",
    "    ReSized4 = cv2.resize(getEdge, (960, 540))\n",
    "    #applying bilateral filtert remove noise and keep edge sharp as required\n",
    "    colorImage = cv2.bilateralFilter(originalmage, 9, 300, 300) \n",
    "    ReSized5 = cv2.resize(colorImage, (960, 540))\n",
    "    #masking edged image with our \"BEAUTIFY\"\n",
    "    cartoonImage = cv2.bitwise_and(colorImage, colorImage, mask=getEdge) \n",
    "    ReSized6= cv2.resize(cartoonImage, (960, 540))\n",
    "    #Plotting the whole transition\n",
    "    images=[ReSized1, ReSized2, ReSized3,ReSized4, ReSized5, ReSized6] \n",
    "    fig, axes = plt.subplots(3,2, figsize=(8,8), subplot_kw={'xticks':[], 'yticks':\n",
    "    []},\n",
    "    gridspec_kw=dict(hspace=0.1,wspace=0.1))\n",
    "    for i, ax in enumerate(axes.flat):\n",
    "        ax.imshow(images[i],\n",
    "        cmap='gray') \n",
    "    plt.show()\n",
    "    \n"
   ]
  },
  {
   "cell_type": "code",
   "execution_count": null,
   "metadata": {},
   "outputs": [],
   "source": [
    "top=tk.Tk() \n",
    "top.geometry('500x500') \n",
    "top.title('Cartoonify Your Image !') \n",
    "top.configure(background='#eadbc8')\n",
    "label=Label(top,background='#eadbc8', font=('ariel',20,'bold'))\n",
    "upload=Button(top,text=\"CartoonifyImage\",command=upload,padx=50,pady=10)\n",
    "upload.configure(background='blue',foreground='white',font=('ariel',10,'bold'))\n",
    "upload.pack(side=TOP,pady=200)"
   ]
  },
  {
   "cell_type": "code",
   "execution_count": null,
   "metadata": {},
   "outputs": [],
   "source": [
    "def save(ReSized6,ImagePath):\n",
    "    os.path.dirname(ImagePath)\n",
    "#savingan image using imwrite()\n",
    "    newName=\"cartoonified_Image\"\n",
    "    path1 = os.path.dirname(ImagePath)\n",
    "    extension=os.path.splitext(ImagePath)[1]\n",
    "    path=os.path.join(path1,newName+extension) \n",
    "    cv2.imwrite(path, cv2.cvtColor(ReSized6, cv2.COLOR_RGB2BGR))\n",
    "    I = \"Image saved by name \" + newName +\" at \"+ path, tk.messagebox.showinfo(title=None, message=I)\n",
    "    save1=Button(top,text=\"Save cartoon image\",command=lambda: save(ImagePath,ReSized6),padx=30,pady=5)\n",
    "\n",
    "    save1.configure(background='#364156',foreground='white',font=('calibri',10,'bold'))\n",
    "    save1.pack(side=TOP,pady=50)"
   ]
  },
  {
   "cell_type": "code",
   "execution_count": null,
   "metadata": {},
   "outputs": [],
   "source": [
    "#Finally, run it to get the output with all the transitions of the image.\n",
    "top.mainloop()"
   ]
  }
 ],
 "metadata": {
  "kernelspec": {
   "display_name": "Python 3.9.13 ('base')",
   "language": "python",
   "name": "python3"
  },
  "language_info": {
   "codemirror_mode": {
    "name": "ipython",
    "version": 3
   },
   "file_extension": ".py",
   "mimetype": "text/x-python",
   "name": "python",
   "nbconvert_exporter": "python",
   "pygments_lexer": "ipython3",
   "version": "3.9.13"
  },
  "orig_nbformat": 4,
  "vscode": {
   "interpreter": {
    "hash": "9569c5ae77d26fc187b84990eb19bdc730ccc905687d64eb8f8d386e316c1a83"
   }
  }
 },
 "nbformat": 4,
 "nbformat_minor": 2
}
